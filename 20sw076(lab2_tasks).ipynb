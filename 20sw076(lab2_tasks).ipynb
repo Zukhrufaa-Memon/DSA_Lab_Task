{
  "nbformat": 4,
  "nbformat_minor": 0,
  "metadata": {
    "colab": {
      "provenance": [],
      "authorship_tag": "ABX9TyOgsRTT/VxN/biOW8HZzQWg",
      "include_colab_link": true
    },
    "kernelspec": {
      "name": "python3",
      "display_name": "Python 3"
    },
    "language_info": {
      "name": "python"
    }
  },
  "cells": [
    {
      "cell_type": "markdown",
      "metadata": {
        "id": "view-in-github",
        "colab_type": "text"
      },
      "source": [
        "<a href=\"https://colab.research.google.com/github/Zukhrufaa-Memon/DSA_Lab_Task/blob/main/20sw076(lab2_tasks).ipynb\" target=\"_parent\"><img src=\"https://colab.research.google.com/assets/colab-badge.svg\" alt=\"Open In Colab\"/></a>"
      ]
    },
    {
      "cell_type": "code",
      "execution_count": 29,
      "metadata": {
        "colab": {
          "base_uri": "https://localhost:8080/"
        },
        "id": "fNBYROB5qHxw",
        "outputId": "c1303f1f-c8f3-44a9-c488-88cd912585bb"
      },
      "outputs": [
        {
          "output_type": "stream",
          "name": "stdout",
          "text": [
            "Congratulations! you won a wafer-thin mint!\n"
          ]
        }
      ],
      "source": [
        "#task 1:\n",
        "points=174\n",
        "if points>=1 and points<=50:\n",
        " result=\"Congratulations! you won a wooden rabbit!\"\n",
        "elif points>=51 and points<=150:\n",
        " result=\"Oh dear, no prize this time\"\n",
        "elif points>=151 and points<=180:\n",
        " result=\"Congratulations! you won a wafer-thin mint!\"\n",
        "elif points>=181 and points<=200:\n",
        " result=\"Congratulations! you won a penguin!\"\n",
        "else :\n",
        " print(\"Invalid input!\")\n",
        "\n",
        "print(result)"
      ]
    },
    {
      "cell_type": "code",
      "source": [
        "#task 2:\n",
        "answer = 120\n",
        "guess = 50\n",
        "if guess < answer:\n",
        " result=\"Oops!  Your guess was too low.\"\n",
        "elif guess > answer:\n",
        " result=\"Oops!  Your guess was too high.\"\n",
        "elif guess==answer:\n",
        " result=\"Nice!  Your guess matched the answer!\"\n",
        "print(result)"
      ],
      "metadata": {
        "colab": {
          "base_uri": "https://localhost:8080/"
        },
        "id": "JNpoQTrqvTuk",
        "outputId": "f25a22e3-b9da-469b-e4d7-27d891f259a7"
      },
      "execution_count": 31,
      "outputs": [
        {
          "output_type": "stream",
          "name": "stdout",
          "text": [
            "Oops!  Your guess was too low.\n"
          ]
        }
      ]
    },
    {
      "cell_type": "code",
      "source": [
        "#task 3:\n",
        "purchase=1516\n",
        "state='CA'\n",
        "if state=='CA':\n",
        " tax=0.075\n",
        "elif state=='MN':\n",
        " tax=0.095\n",
        "elif state=='NY':\n",
        " tax=0.089\n",
        "result=purchase*tax\n",
        "print(\"Total Amount is: \"+str(purchase+result))"
      ],
      "metadata": {
        "colab": {
          "base_uri": "https://localhost:8080/"
        },
        "id": "8kjSSn7Qwloe",
        "outputId": "ee2a6798-b125-44bb-8c8d-63568e98a7f2"
      },
      "execution_count": 36,
      "outputs": [
        {
          "output_type": "stream",
          "name": "stdout",
          "text": [
            "Total Amount is: 1629.7\n"
          ]
        }
      ]
    },
    {
      "cell_type": "code",
      "source": [
        "#task 4:\n",
        "sentence = [\"the\", \"quick\", \"brown\", \"fox\", \"jumped\", \"over\", \"the\", \"lazy\", \"dog\"]\n",
        "for word in sentence:\n",
        "  print(word)\n",
        "print(\"done\")"
      ],
      "metadata": {
        "colab": {
          "base_uri": "https://localhost:8080/"
        },
        "id": "5_3bnl5ozUhN",
        "outputId": "c7b3b838-c255-4c04-b2c4-82ad5942b4d8"
      },
      "execution_count": 37,
      "outputs": [
        {
          "output_type": "stream",
          "name": "stdout",
          "text": [
            "the\n",
            "quick\n",
            "brown\n",
            "fox\n",
            "jumped\n",
            "over\n",
            "the\n",
            "lazy\n",
            "dog\n",
            "done\n"
          ]
        }
      ]
    },
    {
      "cell_type": "code",
      "source": [
        "#task 5:\n",
        "result=[x for x in range(1,35) if x % 5==0 ]\n",
        "for num in result:\n",
        " print(num)"
      ],
      "metadata": {
        "colab": {
          "base_uri": "https://localhost:8080/"
        },
        "id": "XhbVUOOW0qwj",
        "outputId": "13dd8150-e1e4-419a-cc59-4f51eab0e2cf"
      },
      "execution_count": 44,
      "outputs": [
        {
          "output_type": "stream",
          "name": "stdout",
          "text": [
            "5\n",
            "10\n",
            "15\n",
            "20\n",
            "25\n",
            "30\n"
          ]
        }
      ]
    },
    {
      "cell_type": "code",
      "source": [
        "#task 6:\n",
        "names = [\"Rick Sanchez\", \"Morty Smith\", \"Summer Smith\", \"Jerry Smith\", \"Beth Smith\"]\n",
        "first_names=[(fullnames.split()[0]).lower() for fullnames in names]\n",
        "first_names\n"
      ],
      "metadata": {
        "colab": {
          "base_uri": "https://localhost:8080/"
        },
        "id": "E0G33KCt1rBb",
        "outputId": "3a4d674b-7688-4942-8a3f-7a83f037dfda"
      },
      "execution_count": 53,
      "outputs": [
        {
          "output_type": "execute_result",
          "data": {
            "text/plain": [
              "['rick', 'morty', 'summer', 'jerry', 'beth']"
            ]
          },
          "metadata": {},
          "execution_count": 53
        }
      ]
    },
    {
      "cell_type": "code",
      "source": [
        "#task 7:\n",
        "multiples_3=[num for num in range(1,21) if num%3==0]\n",
        "multiples_3"
      ],
      "metadata": {
        "colab": {
          "base_uri": "https://localhost:8080/"
        },
        "id": "5mzRIzP35z7l",
        "outputId": "4c40cb02-f64b-4d03-fc00-1741f52724c1"
      },
      "execution_count": 56,
      "outputs": [
        {
          "output_type": "execute_result",
          "data": {
            "text/plain": [
              "[3, 6, 9, 12, 15, 18]"
            ]
          },
          "metadata": {},
          "execution_count": 56
        }
      ]
    },
    {
      "cell_type": "code",
      "source": [
        "#task 8:\n",
        "scores = {\n",
        "    \"Rick Sanchez\": 70,\n",
        "    \"Morty Smith\": 35,\n",
        "    \"Summer Smith\": 82,\n",
        "    \"Jerry Smith\": 23,\n",
        "    \"Beth Smith\": 98\n",
        "    }\n",
        "passed=[name for name,score in scores.items() if score>=65 ]\n",
        "print(passed)"
      ],
      "metadata": {
        "colab": {
          "base_uri": "https://localhost:8080/"
        },
        "id": "IEWcyFTg67DJ",
        "outputId": "d442ff89-e329-4227-a728-146ecc5dde10"
      },
      "execution_count": 68,
      "outputs": [
        {
          "output_type": "stream",
          "name": "stdout",
          "text": [
            "['Rick Sanchez', 'Summer Smith', 'Beth Smith']\n"
          ]
        }
      ]
    },
    {
      "cell_type": "code",
      "source": [
        "#task 9:\n",
        "cast_names = [\"Barney\", \"Robin\", \"Ted\", \"Lily\", \"Marshall\"]\n",
        "cast_heights = [72, 68, 72, 66, 76]\n",
        "cast=dict(zip(cast_names,cast_heights))\n",
        "cast\n"
      ],
      "metadata": {
        "colab": {
          "base_uri": "https://localhost:8080/"
        },
        "id": "ij4Y11aA7stZ",
        "outputId": "a13b040d-ce5b-4cad-ac4a-fb087c1e1274"
      },
      "execution_count": 70,
      "outputs": [
        {
          "output_type": "execute_result",
          "data": {
            "text/plain": [
              "{'Barney': 72, 'Robin': 68, 'Ted': 72, 'Lily': 66, 'Marshall': 76}"
            ]
          },
          "metadata": {},
          "execution_count": 70
        }
      ]
    },
    {
      "cell_type": "code",
      "source": [
        "#task 10:\n",
        "#When you use enumerate with a list, it returns an iterator that provides tuples\n",
        "#containing two values for each element in the list:\n",
        "##The first value is the index of the current element.(i)\n",
        "#The second value is the actual element from the list.(casts)\n",
        "\n",
        "cast = [\"Barney Stinson\", \"Robin Scherbatsky\", \"Ted Mosby\", \"Lily Aldrin\",\n",
        "        \"Marshall Eriksen\"]\n",
        "heights = [72, 68, 72, 66, 76]\n",
        "for i,casts in enumerate(cast):\n",
        "  cast[i]+=str(heights[i])\n",
        "print(cast)"
      ],
      "metadata": {
        "colab": {
          "base_uri": "https://localhost:8080/"
        },
        "id": "6IUEIHq-B2b3",
        "outputId": "0eda8c4b-32b1-4211-8e92-7355362e46e9"
      },
      "execution_count": 100,
      "outputs": [
        {
          "output_type": "stream",
          "name": "stdout",
          "text": [
            "['Barney Stinson72', 'Robin Scherbatsky68', 'Ted Mosby72', 'Lily Aldrin66', 'Marshall Eriksen76']\n"
          ]
        }
      ]
    }
  ]
}