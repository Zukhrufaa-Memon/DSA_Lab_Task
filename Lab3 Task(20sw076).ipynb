{
  "nbformat": 4,
  "nbformat_minor": 0,
  "metadata": {
    "colab": {
      "provenance": [],
      "authorship_tag": "ABX9TyMc6M7fGRxXQ3SkwThNWZwq",
      "include_colab_link": true
    },
    "kernelspec": {
      "name": "python3",
      "display_name": "Python 3"
    },
    "language_info": {
      "name": "python"
    }
  },
  "cells": [
    {
      "cell_type": "markdown",
      "metadata": {
        "id": "view-in-github",
        "colab_type": "text"
      },
      "source": [
        "<a href=\"https://colab.research.google.com/github/Zukhrufaa-Memon/DSA_Lab_Task/blob/main/Lab3%20Task(20sw076).ipynb\" target=\"_parent\"><img src=\"https://colab.research.google.com/assets/colab-badge.svg\" alt=\"Open In Colab\"/></a>"
      ]
    },
    {
      "cell_type": "code",
      "execution_count": null,
      "metadata": {
        "id": "_8PD7lQaNezq"
      },
      "outputs": [],
      "source": [
        "#lab 3 tasks (20sw076)\n"
      ]
    },
    {
      "cell_type": "code",
      "source": [
        "#task 1\n",
        "def population_density(population,land_area):\n",
        "  return population/land_area\n",
        "\n",
        "test1=population_density(10,1)\n",
        "print(\"Result is: {}\".format(test1));\n",
        "test2=population_density(864816,121.4)\n",
        "print(\"Result of test2 is : {}\".format(test2))"
      ],
      "metadata": {
        "colab": {
          "base_uri": "https://localhost:8080/"
        },
        "id": "WQMkc2cEPvL8",
        "outputId": "c1ed7dcf-84fe-4e50-c0a4-3f90207add9d"
      },
      "execution_count": null,
      "outputs": [
        {
          "output_type": "stream",
          "name": "stdout",
          "text": [
            "Result is: 10.0\n",
            "Result of test2 is : 7123.690280065897\n"
          ]
        }
      ]
    },
    {
      "cell_type": "code",
      "source": [
        "#task2\n",
        "def readable_timedelta(days):\n",
        " weeks = days // 7 #// will return quotient\n",
        " remaining_days= days % 7 #% will return remainder\n",
        " return \"week(s)={} , day(s)={} \".format(weeks,remaining_days)\n",
        "\n",
        "print(readable_timedelta(10))"
      ],
      "metadata": {
        "colab": {
          "base_uri": "https://localhost:8080/"
        },
        "id": "XC8SiCXMRJNr",
        "outputId": "84a227f6-494d-4d30-fdf9-cd180a133bba"
      },
      "execution_count": null,
      "outputs": [
        {
          "output_type": "stream",
          "name": "stdout",
          "text": [
            "week(s)=1 , day(s)=3 \n"
          ]
        }
      ]
    },
    {
      "cell_type": "code",
      "source": [
        "#task3\n",
        "numbers = [\n",
        "              [34, 63, 88, 71, 29],\n",
        "              [90, 78, 51, 27, 45],\n",
        "              [63, 37, 85, 46, 22],\n",
        "              [51, 22, 34, 11, 18]\n",
        "           ]\n",
        "\n",
        "\n",
        "\n",
        "averages = list(map(lambda num_list: sum(num_list)/len(num_list), numbers))\n",
        "print(averages)\n"
      ],
      "metadata": {
        "colab": {
          "base_uri": "https://localhost:8080/"
        },
        "id": "OcyQxL5bVkvK",
        "outputId": "3ea1a89a-d399-4f0b-d3ba-22c1a6916432"
      },
      "execution_count": null,
      "outputs": [
        {
          "output_type": "stream",
          "name": "stdout",
          "text": [
            "[57.0, 58.2, 50.6, 27.2]\n"
          ]
        }
      ]
    },
    {
      "cell_type": "code",
      "source": [
        "#task4\n",
        "cities = [\"New York City\", \"Los Angeles\", \"Chicago\", \"Mountain View\", \"Denver\", \"Boston\"]\n",
        "\n",
        "def is_short(name):\n",
        "    return len(name) < 10\n",
        "\n",
        "short_cities = list(filter(lambda name:len(name)<10, cities))\n",
        "print(short_cities)\n",
        "\n"
      ],
      "metadata": {
        "colab": {
          "base_uri": "https://localhost:8080/"
        },
        "id": "8ggX5AGHW_vp",
        "outputId": "0fc19b14-bd59-46aa-98b5-afa9170dd97d"
      },
      "execution_count": null,
      "outputs": [
        {
          "output_type": "stream",
          "name": "stdout",
          "text": [
            "['Chicago', 'Denver', 'Boston']\n",
            "['Chicago', 'Denver', 'Boston']\n"
          ]
        }
      ]
    },
    {
      "cell_type": "code",
      "source": [
        "#task5\n",
        "names = input(\"Enter a list of student names  \").split(',')\n",
        "assignments = input(\"Enter a list of missing assignment counts \").split(',')\n",
        "grades = input(\"Enter a list of student grades  \").split(',')\n",
        "assignments = [int(a) for a in assignments]\n",
        "grades = [int(g) for g in grades]\n",
        "for name, assignment, grade in zip(names, assignments, grades):\n",
        "    potential_grade = grade + 2 * assignment\n",
        "\n",
        "    message = \"Hi {},\\nThis is a reminder that you have {} assignments left to submit before you can graduate. Your current grade is {} and can increase to {} if you submit all assignments before the due date.\\n.\"\n",
        "\n",
        "    print(message.format(name,assignment,grade,potential_grade))\n",
        "\n"
      ],
      "metadata": {
        "colab": {
          "base_uri": "https://localhost:8080/"
        },
        "id": "Bd4spuDXXed_",
        "outputId": "89e6f1cb-b6c1-442d-ee3f-84361e851f56"
      },
      "execution_count": null,
      "outputs": [
        {
          "output_type": "stream",
          "name": "stdout",
          "text": [
            "Enter a list of student names  ali\n",
            "Enter a list of missing assignment counts 1\n",
            "Enter a list of student grades  1,2\n",
            "Hi ali,\n",
            "This is a reminder that you have 1 assignments left to submit before you can graduate. Your current grade is 1 and can increase to 3 if you submit all assignments before the due date.\n",
            ".\n"
          ]
        }
      ]
    },
    {
      "cell_type": "code",
      "source": [
        "#task6\n",
        "f = open('tasksix.txt', 'w')\n",
        "f.write(\"We're the knights of the round tableWe dance whenever we're able\")\n",
        "f.close()\n",
        "\n",
        "with open(\"tasksix.txt\") as abc:\n",
        "  print(abc.read(2))\n",
        "  print(abc.read(8))\n",
        "  print(abc.read())\n",
        "\n",
        "\n",
        "camelot_lines = []\n",
        "with open(\"tasksix.txt\") as f:\n",
        "    for line in f:\n",
        "      camelot_lines.append(line.strip())\n",
        "print(camelot_lines)"
      ],
      "metadata": {
        "colab": {
          "base_uri": "https://localhost:8080/"
        },
        "id": "dvg_UclkeCSD",
        "outputId": "b76c24b2-095c-43fc-f3df-20de40d462a4"
      },
      "execution_count": null,
      "outputs": [
        {
          "output_type": "stream",
          "name": "stdout",
          "text": [
            "We\n",
            "'re the \n",
            "knights of the round tableWe dance whenever we're able\n",
            "[\"We're the knights of the round tableWe dance whenever we're able\"]\n"
          ]
        }
      ]
    },
    {
      "cell_type": "code",
      "source": [
        "#task7\n",
        "def create_cast_list(filename):\n",
        "    cast_list = []\n",
        "    with open(filename, 'r') as file:\n",
        "        for line in file:\n",
        "            actor_name, _ = line.strip().split(',', 1)\n",
        "            cast_list.append(actor_name)\n",
        "    return cast_list\n",
        "\n",
        "cast_list = create_cast_list('flying_circus_cast.txt')\n",
        "for actor in cast_list:\n",
        "    print(actor)\n"
      ],
      "metadata": {
        "colab": {
          "base_uri": "https://localhost:8080/"
        },
        "id": "EoaO6VW-e6iO",
        "outputId": "087f1590-6d5b-459f-9cb9-0fdb07fe7eb9"
      },
      "execution_count": 21,
      "outputs": [
        {
          "output_type": "stream",
          "name": "stdout",
          "text": [
            "Graham Chapman\n",
            "Eric Idle\n",
            "Terry Jones\n",
            "Michael Palin\n",
            "Terry Gilliam\n",
            "John Cleese\n",
            "Carol Cleveland\n",
            "Ian Davidson\n",
            "John Hughman\n",
            "The Fred Tomlinson Singers\n",
            "Connie Booth\n",
            "Bob Raymond\n",
            "Lyn Ashley\n",
            "Rita Davies\n",
            "Stanley Mason\n",
            "David Ballantyne\n",
            "Donna Reading\n",
            "Peter Brett\n",
            "Maureen Flanagan\n",
            "Katya Wyeth\n",
            "Frank Lester\n",
            "Neil Innes\n",
            "Dick Vosburgh\n",
            "Sandra Richards\n",
            "Julia Breck\n",
            "Nicki Howorth\n",
            "Jimmy Hill\n",
            "Barry Cryer\n",
            "Jeannette Wild\n",
            "Marjorie Wilde\n",
            "Marie Anderson\n",
            "Caron Gardner\n",
            "Nosher Powell\n",
            "Carolae Donoghue\n",
            "Vincent Wong\n",
            "Helena Clayton\n",
            "Nigel Jones\n",
            "Roy Gunson\n",
            "Daphne Davey\n",
            "Stenson Falke\n",
            "Alexander Curry\n",
            "Frank Williams\n",
            "Ralph Wood\n",
            "Rosalind Bailey\n",
            "Marion Mould\n",
            "Sheila Sands\n",
            "Richard Baker\n",
            "Douglas Adams\n",
            "Ewa Aulin\n",
            "Reginald Bosanquet\n",
            "Barbara Lindley\n",
            "Roy Brent\n",
            "Jonas Card\n",
            "Tony Christopher\n",
            "Beulah Hughes\n",
            "Peter Kodak\n",
            "Lulu\n",
            "Jay Neill\n",
            "Graham Skidmore\n",
            "Ringo Starr\n",
            "Fred Tomlinson\n",
            "David Hamilton\n",
            "Suzy Mandel\n",
            "Peter Woods\n"
          ]
        }
      ]
    }
  ]
}