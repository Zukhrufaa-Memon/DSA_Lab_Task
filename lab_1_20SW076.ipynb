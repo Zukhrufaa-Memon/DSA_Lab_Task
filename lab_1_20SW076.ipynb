{
  "nbformat": 4,
  "nbformat_minor": 0,
  "metadata": {
    "colab": {
      "provenance": []
    },
    "kernelspec": {
      "name": "python3",
      "display_name": "Python 3"
    },
    "language_info": {
      "name": "python"
    }
  },
  "cells": [
    {
      "cell_type": "code",
      "execution_count": 1,
      "metadata": {
        "colab": {
          "base_uri": "https://localhost:8080/"
        },
        "id": "tM_a_jfHK-ZY",
        "outputId": "bd093130-9f0a-4142-9100-7584cbb3b638"
      },
      "outputs": [
        {
          "output_type": "stream",
          "name": "stdout",
          "text": [
            "my name iszukhrufa my age is 20\n"
          ]
        }
      ],
      "source": [
        "#task1\n",
        "name=\"zukhrufa\"\n",
        "roll_no=\"20sw076\"\n",
        "print(\"my name is\"+name+\" my age is {}\".format(20))"
      ]
    },
    {
      "cell_type": "code",
      "source": [
        "#task2\n",
        "myvar=\"aisha muzaffar\"\n",
        "print(\"Capitalize: \"+myvar.capitalize())\n",
        "print(\"casefold: \"+myvar.casefold())\n",
        "print(\"center: \"+myvar.center(30,'$'))\n",
        "print(myvar.count('a',0,13))\n",
        "print(myvar.encode(encoding='utf-8', errors='strict'))\n",
        "print(myvar.endswith('r',0,14))\n",
        "print(myvar.find('is',0,14))\n",
        "print(myvar.isspace())\n",
        "\n",
        "myvar2='zee\\tmemon\\tabc'\n",
        "print(myvar2.expandtabs(2))\n",
        "\n",
        "#usage of functions with string\n",
        "intro=\"this is zukhrufa Memon\"\n",
        "intro.split()\n",
        "\n",
        "#usage of functions with string\n",
        "'~'.join(['zee','is','my','nickname'])"
      ],
      "metadata": {
        "colab": {
          "base_uri": "https://localhost:8080/",
          "height": 192
        },
        "id": "PCw28ZzULhFa",
        "outputId": "870c1da1-8907-43bb-a4f9-31a3f38d4b88"
      },
      "execution_count": 52,
      "outputs": [
        {
          "output_type": "stream",
          "name": "stdout",
          "text": [
            "Capitalize: Aisha muzaffar\n",
            "casefold: aisha muzaffar\n",
            "center: $$$$$$$$aisha muzaffar$$$$$$$$\n",
            "4\n",
            "b'aisha muzaffar'\n",
            "True\n",
            "1\n",
            "False\n",
            "zee memon abc\n"
          ]
        },
        {
          "output_type": "execute_result",
          "data": {
            "text/plain": [
              "'zee~is~my~nickname'"
            ],
            "application/vnd.google.colaboratory.intrinsic+json": {
              "type": "string"
            }
          },
          "metadata": {},
          "execution_count": 52
        }
      ]
    },
    {
      "cell_type": "code",
      "source": [
        "#task#3 (august)\n",
        "month = 7\n",
        "days_in_month = [31,28,31,30,31,30,31,31,30,31,30,31]\n",
        "days=days_in_month[month]\n",
        "print(days)"
      ],
      "metadata": {
        "colab": {
          "base_uri": "https://localhost:8080/"
        },
        "id": "njcAg9idP5ru",
        "outputId": "d8f8221c-fd1c-46c3-dd1d-814597c8333a"
      },
      "execution_count": 28,
      "outputs": [
        {
          "output_type": "stream",
          "name": "stdout",
          "text": [
            "31\n"
          ]
        }
      ]
    },
    {
      "cell_type": "code",
      "source": [
        "#task4\n",
        "eclipse_dates = ['June 21, 2001', 'December 4, 2002', 'November 23, 2003',\n",
        "                 'March 29, 2006', 'August 1, 2008', 'July 22, 2009','July 11, 2010',\n",
        "                 'November 13, 2012', 'March 20, 2015','March 9, 2016']\n",
        "eclipse_dates[7:10]     #to index 10, bcoz it dont include element on the right"
      ],
      "metadata": {
        "colab": {
          "base_uri": "https://localhost:8080/"
        },
        "id": "gQmsaLcZQXPw",
        "outputId": "afefda1f-c648-415f-a529-819dd4cfb807"
      },
      "execution_count": 48,
      "outputs": [
        {
          "output_type": "execute_result",
          "data": {
            "text/plain": [
              "['November 13, 2012', 'March 20, 2015', 'March 9, 2016']"
            ]
          },
          "metadata": {},
          "execution_count": 48
        }
      ]
    },
    {
      "cell_type": "code",
      "source": [
        "#task5 use of nested dictionary\n",
        "dict={\"20SW028\":{\"Aiman\",\"Manahil\",\"3rd year\"},\n",
        "      \"20SW076\":{\"Zee\",\"Memon\",\"3rd year\"}}\n",
        "print(dict[\"20SW028\"])"
      ],
      "metadata": {
        "colab": {
          "base_uri": "https://localhost:8080/"
        },
        "id": "E8egsnOVUmD8",
        "outputId": "f662429d-cabd-4c7f-9449-883fb48e73b7"
      },
      "execution_count": 59,
      "outputs": [
        {
          "output_type": "stream",
          "name": "stdout",
          "text": [
            "{'3rd year', 'Aiman', 'Manahil'}\n"
          ]
        }
      ]
    }
  ]
}